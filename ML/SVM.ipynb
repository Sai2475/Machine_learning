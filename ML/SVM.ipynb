{
 "cells": [
  {
   "cell_type": "code",
   "execution_count": 3,
   "id": "f880a022-5f08-492c-9fd6-246b4dd69762",
   "metadata": {},
   "outputs": [
    {
     "data": {
      "text/html": [
       "<div>\n",
       "<style scoped>\n",
       "    .dataframe tbody tr th:only-of-type {\n",
       "        vertical-align: middle;\n",
       "    }\n",
       "\n",
       "    .dataframe tbody tr th {\n",
       "        vertical-align: top;\n",
       "    }\n",
       "\n",
       "    .dataframe thead th {\n",
       "        text-align: right;\n",
       "    }\n",
       "</style>\n",
       "<table border=\"1\" class=\"dataframe\">\n",
       "  <thead>\n",
       "    <tr style=\"text-align: right;\">\n",
       "      <th></th>\n",
       "      <th>Area</th>\n",
       "      <th>MajorAxisLength</th>\n",
       "      <th>MinorAxisLength</th>\n",
       "      <th>Eccentricity</th>\n",
       "      <th>ConvexArea</th>\n",
       "      <th>Extent</th>\n",
       "      <th>Perimeter</th>\n",
       "      <th>Class</th>\n",
       "    </tr>\n",
       "  </thead>\n",
       "  <tbody>\n",
       "    <tr>\n",
       "      <th>51</th>\n",
       "      <td>114648</td>\n",
       "      <td>508.128933</td>\n",
       "      <td>288.953981</td>\n",
       "      <td>0.822571</td>\n",
       "      <td>118314</td>\n",
       "      <td>0.681905</td>\n",
       "      <td>1340.897</td>\n",
       "      <td>Kecimen</td>\n",
       "    </tr>\n",
       "    <tr>\n",
       "      <th>785</th>\n",
       "      <td>62526</td>\n",
       "      <td>357.205087</td>\n",
       "      <td>228.862930</td>\n",
       "      <td>0.767788</td>\n",
       "      <td>65994</td>\n",
       "      <td>0.707308</td>\n",
       "      <td>1006.598</td>\n",
       "      <td>Besni</td>\n",
       "    </tr>\n",
       "    <tr>\n",
       "      <th>299</th>\n",
       "      <td>36113</td>\n",
       "      <td>257.641853</td>\n",
       "      <td>181.157079</td>\n",
       "      <td>0.711056</td>\n",
       "      <td>37442</td>\n",
       "      <td>0.694481</td>\n",
       "      <td>737.637</td>\n",
       "      <td>Kecimen</td>\n",
       "    </tr>\n",
       "    <tr>\n",
       "      <th>108</th>\n",
       "      <td>82826</td>\n",
       "      <td>396.705912</td>\n",
       "      <td>269.762855</td>\n",
       "      <td>0.733205</td>\n",
       "      <td>84981</td>\n",
       "      <td>0.745435</td>\n",
       "      <td>1115.811</td>\n",
       "      <td>Kecimen</td>\n",
       "    </tr>\n",
       "    <tr>\n",
       "      <th>249</th>\n",
       "      <td>50274</td>\n",
       "      <td>305.397256</td>\n",
       "      <td>212.273447</td>\n",
       "      <td>0.718939</td>\n",
       "      <td>52016</td>\n",
       "      <td>0.687508</td>\n",
       "      <td>868.951</td>\n",
       "      <td>Kecimen</td>\n",
       "    </tr>\n",
       "  </tbody>\n",
       "</table>\n",
       "</div>"
      ],
      "text/plain": [
       "       Area  MajorAxisLength  MinorAxisLength  Eccentricity  ConvexArea  \\\n",
       "51   114648       508.128933       288.953981      0.822571      118314   \n",
       "785   62526       357.205087       228.862930      0.767788       65994   \n",
       "299   36113       257.641853       181.157079      0.711056       37442   \n",
       "108   82826       396.705912       269.762855      0.733205       84981   \n",
       "249   50274       305.397256       212.273447      0.718939       52016   \n",
       "\n",
       "       Extent  Perimeter    Class  \n",
       "51   0.681905   1340.897  Kecimen  \n",
       "785  0.707308   1006.598    Besni  \n",
       "299  0.694481    737.637  Kecimen  \n",
       "108  0.745435   1115.811  Kecimen  \n",
       "249  0.687508    868.951  Kecimen  "
      ]
     },
     "execution_count": 3,
     "metadata": {},
     "output_type": "execute_result"
    }
   ],
   "source": [
    "import pandas as pd \n",
    "\n",
    "df = pd.read_excel(\"Raisin_Dataset.xlsx\")\n",
    "df.sample(5)"
   ]
  },
  {
   "cell_type": "code",
   "execution_count": 6,
   "id": "3334f5a7-f628-4f69-8ac1-50d13cef6a33",
   "metadata": {},
   "outputs": [],
   "source": [
    "X = df[[\"Area\", \"MajorAxisLength\", \"MinorAxisLength\", \"Eccentricity\", \"ConvexArea\", \"Extent\", \"Perimeter\"]]\n",
    "y = df[\"Class\"]\n",
    "\n",
    "from sklearn.model_selection import train_test_split\n",
    "X_train, X_test, y_train, y_test = train_test_split(X, y, test_size=0.3, random_state=42)"
   ]
  },
  {
   "cell_type": "markdown",
   "id": "735174d8-6a9e-43e3-903d-726c705a20d9",
   "metadata": {},
   "source": [
    "#### Scaling"
   ]
  },
  {
   "cell_type": "code",
   "execution_count": 13,
   "id": "1e55ee4b-45be-45f0-9658-842af0c5f2fc",
   "metadata": {},
   "outputs": [],
   "source": [
    "from sklearn.preprocessing import StandardScaler , MinMaxScaler\n",
    "scaler = StandardScaler()\n",
    "scaler.fit(X)\n",
    "\n",
    "X_train_scaled = scaler.transform(X_train)\n",
    "X_test_scaled = scaler.transform(X_test)"
   ]
  },
  {
   "cell_type": "code",
   "execution_count": 16,
   "id": "c3121c11-09c8-4627-9cfc-9fcf8368a913",
   "metadata": {},
   "outputs": [
    {
     "data": {
      "text/html": [
       "<div>\n",
       "<style scoped>\n",
       "    .dataframe tbody tr th:only-of-type {\n",
       "        vertical-align: middle;\n",
       "    }\n",
       "\n",
       "    .dataframe tbody tr th {\n",
       "        vertical-align: top;\n",
       "    }\n",
       "\n",
       "    .dataframe thead th {\n",
       "        text-align: right;\n",
       "    }\n",
       "</style>\n",
       "<table border=\"1\" class=\"dataframe\">\n",
       "  <thead>\n",
       "    <tr style=\"text-align: right;\">\n",
       "      <th></th>\n",
       "      <th>Area</th>\n",
       "      <th>MajorAxisLength</th>\n",
       "      <th>MinorAxisLength</th>\n",
       "      <th>Eccentricity</th>\n",
       "      <th>ConvexArea</th>\n",
       "      <th>Extent</th>\n",
       "      <th>Perimeter</th>\n",
       "    </tr>\n",
       "  </thead>\n",
       "  <tbody>\n",
       "    <tr>\n",
       "      <th>687</th>\n",
       "      <td>129292</td>\n",
       "      <td>614.547426</td>\n",
       "      <td>270.085490</td>\n",
       "      <td>0.898249</td>\n",
       "      <td>133475</td>\n",
       "      <td>0.689690</td>\n",
       "      <td>1531.744</td>\n",
       "    </tr>\n",
       "    <tr>\n",
       "      <th>705</th>\n",
       "      <td>79975</td>\n",
       "      <td>439.312508</td>\n",
       "      <td>240.494190</td>\n",
       "      <td>0.836849</td>\n",
       "      <td>83384</td>\n",
       "      <td>0.691162</td>\n",
       "      <td>1162.608</td>\n",
       "    </tr>\n",
       "    <tr>\n",
       "      <th>296</th>\n",
       "      <td>56327</td>\n",
       "      <td>297.765725</td>\n",
       "      <td>241.934426</td>\n",
       "      <td>0.582962</td>\n",
       "      <td>58178</td>\n",
       "      <td>0.727739</td>\n",
       "      <td>915.496</td>\n",
       "    </tr>\n",
       "    <tr>\n",
       "      <th>172</th>\n",
       "      <td>58741</td>\n",
       "      <td>345.485448</td>\n",
       "      <td>222.381845</td>\n",
       "      <td>0.765295</td>\n",
       "      <td>60701</td>\n",
       "      <td>0.714819</td>\n",
       "      <td>948.233</td>\n",
       "    </tr>\n",
       "    <tr>\n",
       "      <th>863</th>\n",
       "      <td>67468</td>\n",
       "      <td>424.563654</td>\n",
       "      <td>207.823052</td>\n",
       "      <td>0.872004</td>\n",
       "      <td>70674</td>\n",
       "      <td>0.611694</td>\n",
       "      <td>1105.042</td>\n",
       "    </tr>\n",
       "  </tbody>\n",
       "</table>\n",
       "</div>"
      ],
      "text/plain": [
       "       Area  MajorAxisLength  MinorAxisLength  Eccentricity  ConvexArea  \\\n",
       "687  129292       614.547426       270.085490      0.898249      133475   \n",
       "705   79975       439.312508       240.494190      0.836849       83384   \n",
       "296   56327       297.765725       241.934426      0.582962       58178   \n",
       "172   58741       345.485448       222.381845      0.765295       60701   \n",
       "863   67468       424.563654       207.823052      0.872004       70674   \n",
       "\n",
       "       Extent  Perimeter  \n",
       "687  0.689690   1531.744  \n",
       "705  0.691162   1162.608  \n",
       "296  0.727739    915.496  \n",
       "172  0.714819    948.233  \n",
       "863  0.611694   1105.042  "
      ]
     },
     "execution_count": 16,
     "metadata": {},
     "output_type": "execute_result"
    }
   ],
   "source": [
    "X_train.head()"
   ]
  },
  {
   "cell_type": "code",
   "execution_count": 17,
   "id": "68079b71-4683-4a58-b732-037fcd37d52d",
   "metadata": {},
   "outputs": [
    {
     "data": {
      "text/plain": [
       "array([[ 1.06432546,  1.58331003,  0.3121899 , ...,  1.03785038,\n",
       "        -0.18372849,  1.33706534],\n",
       "       [-0.20084761,  0.07228172, -0.28009664, ..., -0.19147815,\n",
       "        -0.15618566, -0.01205588],\n",
       "       [-0.80751089, -1.1482581 , -0.25126952, ..., -0.81008139,\n",
       "         0.52829137, -0.9152028 ],\n",
       "       ...,\n",
       "       [ 2.02280624,  1.52682193,  1.90489827, ...,  1.91117405,\n",
       "         1.01069031,  1.49210229],\n",
       "       [-1.52866749, -1.59978989, -2.08647336, ..., -1.49386793,\n",
       "        -1.44493478, -1.76491643],\n",
       "       [-0.76951747, -1.04300791, -0.26263666, ..., -0.79103687,\n",
       "         0.20282377, -0.92850265]])"
      ]
     },
     "execution_count": 17,
     "metadata": {},
     "output_type": "execute_result"
    }
   ],
   "source": [
    "X_train_scaled"
   ]
  },
  {
   "cell_type": "markdown",
   "id": "04e7fb1d-5516-4a2b-96f0-c223ae16edbb",
   "metadata": {},
   "source": [
    "#### WITHOUT SCALING"
   ]
  },
  {
   "cell_type": "code",
   "execution_count": 24,
   "id": "e1cff786-039b-40dd-91da-73f71cfdbe7d",
   "metadata": {},
   "outputs": [
    {
     "name": "stdout",
     "output_type": "stream",
     "text": [
      "              precision    recall  f1-score   support\n",
      "\n",
      "       Besni       0.86      0.83      0.84       129\n",
      "     Kecimen       0.85      0.87      0.86       141\n",
      "\n",
      "    accuracy                           0.85       270\n",
      "   macro avg       0.85      0.85      0.85       270\n",
      "weighted avg       0.85      0.85      0.85       270\n",
      "\n"
     ]
    },
    {
     "data": {
      "text/plain": [
       "array([203], dtype=int32)"
      ]
     },
     "execution_count": 24,
     "metadata": {},
     "output_type": "execute_result"
    }
   ],
   "source": [
    "from sklearn.svm import SVC \n",
    "\n",
    "model = SVC(kernel='rbf')\n",
    "model.fit(X_train, y_train)\n",
    "\n",
    "y_pred = model.predict(X_test)\n",
    "\n",
    "from sklearn.metrics import classification_report\n",
    "\n",
    "report = classification_report(y_test,y_pred)\n",
    "print(report)\n",
    "\n",
    "model.n_iter_"
   ]
  },
  {
   "cell_type": "markdown",
   "id": "39e78c0b-3f35-4fff-9ed3-94cb00afc7f0",
   "metadata": {},
   "source": [
    "### with Scaling"
   ]
  },
  {
   "cell_type": "code",
   "execution_count": 25,
   "id": "cca849d7-57cb-4bcb-bea4-c1f54f315c57",
   "metadata": {},
   "outputs": [
    {
     "name": "stdout",
     "output_type": "stream",
     "text": [
      "              precision    recall  f1-score   support\n",
      "\n",
      "       Besni       0.87      0.86      0.86       129\n",
      "     Kecimen       0.87      0.88      0.88       141\n",
      "\n",
      "    accuracy                           0.87       270\n",
      "   macro avg       0.87      0.87      0.87       270\n",
      "weighted avg       0.87      0.87      0.87       270\n",
      "\n"
     ]
    },
    {
     "data": {
      "text/plain": [
       "array([343], dtype=int32)"
      ]
     },
     "execution_count": 25,
     "metadata": {},
     "output_type": "execute_result"
    }
   ],
   "source": [
    "from sklearn.svm import SVC \n",
    "\n",
    "model = SVC(kernel='rbf')\n",
    "model.fit(X_train_scaled, y_train)\n",
    "\n",
    "y_pred = model.predict(X_test_scaled)\n",
    "\n",
    "from sklearn.metrics import classification_report\n",
    "\n",
    "report = classification_report(y_test,y_pred)\n",
    "print(report)\n",
    "\n",
    "model.n_iter_"
   ]
  },
  {
   "cell_type": "markdown",
   "id": "0229468b-2d8e-4f2b-b2f6-7dafd7399598",
   "metadata": {},
   "source": [
    "### WITHOUT SCALING"
   ]
  },
  {
   "cell_type": "code",
   "execution_count": 26,
   "id": "53edf40b-2df1-4437-ae4c-a90dbe62e26b",
   "metadata": {},
   "outputs": [
    {
     "name": "stdout",
     "output_type": "stream",
     "text": [
      "              precision    recall  f1-score   support\n",
      "\n",
      "       Besni       0.82      0.89      0.86       129\n",
      "     Kecimen       0.89      0.82      0.86       141\n",
      "\n",
      "    accuracy                           0.86       270\n",
      "   macro avg       0.86      0.86      0.86       270\n",
      "weighted avg       0.86      0.86      0.86       270\n",
      "\n"
     ]
    },
    {
     "data": {
      "text/plain": [
       "array([98755368], dtype=int32)"
      ]
     },
     "execution_count": 26,
     "metadata": {},
     "output_type": "execute_result"
    }
   ],
   "source": [
    "from sklearn.svm import SVC \n",
    "\n",
    "model = SVC(kernel='linear')\n",
    "model.fit(X_train, y_train)\n",
    "\n",
    "y_pred = model.predict(X_test)\n",
    "\n",
    "from sklearn.metrics import classification_report\n",
    "\n",
    "report = classification_report(y_test,y_pred)\n",
    "print(report)\n",
    "\n",
    "model.n_iter_"
   ]
  },
  {
   "cell_type": "code",
   "execution_count": 27,
   "id": "3234b17f-b597-40db-93c9-b1d882b1ea09",
   "metadata": {},
   "outputs": [
    {
     "name": "stdout",
     "output_type": "stream",
     "text": [
      "              precision    recall  f1-score   support\n",
      "\n",
      "       Besni       0.85      0.88      0.86       129\n",
      "     Kecimen       0.88      0.86      0.87       141\n",
      "\n",
      "    accuracy                           0.87       270\n",
      "   macro avg       0.87      0.87      0.87       270\n",
      "weighted avg       0.87      0.87      0.87       270\n",
      "\n"
     ]
    },
    {
     "data": {
      "text/plain": [
       "array([1048], dtype=int32)"
      ]
     },
     "execution_count": 27,
     "metadata": {},
     "output_type": "execute_result"
    }
   ],
   "source": [
    "from sklearn.svm import SVC \n",
    "\n",
    "model = SVC(kernel='linear')\n",
    "model.fit(X_train_scaled, y_train)\n",
    "\n",
    "y_pred = model.predict(X_test_scaled)\n",
    "\n",
    "from sklearn.metrics import classification_report\n",
    "\n",
    "report = classification_report(y_test,y_pred)\n",
    "print(report)\n",
    "\n",
    "model.n_iter_"
   ]
  },
  {
   "cell_type": "markdown",
   "id": "40e3ec05-01cf-4bb8-8152-8fd5ff211f78",
   "metadata": {},
   "source": [
    "#### USING PIPELINE "
   ]
  },
  {
   "cell_type": "code",
   "execution_count": 38,
   "id": "d03c7775-003c-458b-8b9c-a3b943912213",
   "metadata": {},
   "outputs": [],
   "source": [
    "from sklearn.pipeline import Pipeline\n",
    "\n",
    "pipeline = Pipeline([\n",
    "    (\"scale\", StandardScaler()),\n",
    "    (\"svc\", SVC(kernel = \"rbf\"))\n",
    "])"
   ]
  },
  {
   "cell_type": "code",
   "execution_count": 39,
   "id": "0abcd9c5-9598-4c71-bbae-15a8c16d81e4",
   "metadata": {},
   "outputs": [
    {
     "name": "stdout",
     "output_type": "stream",
     "text": [
      "              precision    recall  f1-score   support\n",
      "\n",
      "       Besni       0.87      0.86      0.86       129\n",
      "     Kecimen       0.87      0.88      0.88       141\n",
      "\n",
      "    accuracy                           0.87       270\n",
      "   macro avg       0.87      0.87      0.87       270\n",
      "weighted avg       0.87      0.87      0.87       270\n",
      "\n"
     ]
    },
    {
     "data": {
      "text/plain": [
       "array([1048], dtype=int32)"
      ]
     },
     "execution_count": 39,
     "metadata": {},
     "output_type": "execute_result"
    }
   ],
   "source": [
    "pipeline.fit(X_train, y_train)\n",
    "\n",
    "y_pred = pipeline.predict(X_test)\n",
    "\n",
    "from sklearn.metrics import classification_report\n",
    "\n",
    "report = classification_report(y_test,y_pred)\n",
    "print(report)\n",
    "\n",
    "model.n_iter_"
   ]
  },
  {
   "cell_type": "code",
   "execution_count": null,
   "id": "90a02fbb-a705-4d7d-9307-7fe7dcf7e8c9",
   "metadata": {},
   "outputs": [],
   "source": []
  }
 ],
 "metadata": {
  "kernelspec": {
   "display_name": "Python 3 (ipykernel)",
   "language": "python",
   "name": "python3"
  },
  "language_info": {
   "codemirror_mode": {
    "name": "ipython",
    "version": 3
   },
   "file_extension": ".py",
   "mimetype": "text/x-python",
   "name": "python",
   "nbconvert_exporter": "python",
   "pygments_lexer": "ipython3",
   "version": "3.10.11"
  }
 },
 "nbformat": 4,
 "nbformat_minor": 5
}
